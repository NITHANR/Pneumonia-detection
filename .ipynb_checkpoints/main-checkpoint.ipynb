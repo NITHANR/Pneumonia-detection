{
 "cells": [
  {
   "cell_type": "code",
   "execution_count": 2,
   "id": "506b4c8d-6689-4da2-99c5-360a36e765e6",
   "metadata": {},
   "outputs": [],
   "source": [
    "import torch\n",
    "import torchvision\n",
    "import torch.nn as nn\n",
    "import torch.nn.functional as F\n",
    "from torchvision import transforms\n",
    "from torch.utils.data import DataLoader\n",
    "from torchvision.datasets import ImageFolder\n"
   ]
  },
  {
   "cell_type": "code",
   "execution_count": 6,
   "id": "b92decce-2cf0-40aa-af53-6d078790d64b",
   "metadata": {},
   "outputs": [],
   "source": [
    "from sklearn.metrics import precision_score, recall_score, f1_score, accuracy_score, confusion_matrix\n",
    "import seaborn as sns\n",
    "\n",
    "from zipfile import ZipFile\n",
    "from matplotlib import pyplot as plt\n",
    "from tqdm import tqdm\n",
    "from collections import Counter\n",
    "from pathlib import Path\n",
    "import time\n",
    "\n",
    "from PIL import Image\n",
    "import numpy as np\n",
    "import pandas as pd\n",
    "\n",
    "# !pip install funcyou -q\n",
    "from funcyou.utils import DotDict, dir_walk\n",
    "from funcyou.dataset import download_kaggle_resource"
   ]
  },
  {
   "cell_type": "code",
   "execution_count": 7,
   "id": "3ba2fa11-a335-40f2-ae6b-fc8d974adce0",
   "metadata": {},
   "outputs": [],
   "source": [
    "device= 'cuda' if torch.cuda.is_available() else 'cpu'\n",
    "\n",
    "model_name = 'vit'\n",
    "\n",
    "if model_name=='vitres':\n",
    "    model_path = Path('models/vitres.pth')\n",
    "\n",
    "elif model_name=='vit':\n",
    "    model_path = Path('models/vit1.pth')\n",
    "elif model_name=='res':\n",
    "    model_path = Path('models/res.pth')"
   ]
  },
  {
   "cell_type": "code",
   "execution_count": 8,
   "id": "c7421729-d2b7-4ad4-9a3d-1cdf3be4ea24",
   "metadata": {},
   "outputs": [
    {
     "data": {
      "text/plain": [
       "WindowsPath('models/vit1.pth')"
      ]
     },
     "execution_count": 8,
     "metadata": {},
     "output_type": "execute_result"
    }
   ],
   "source": [
    "model_path\n"
   ]
  },
  {
   "cell_type": "code",
   "execution_count": 9,
   "id": "d1d81233-7679-4980-b04e-e7e6fc0d8ee3",
   "metadata": {},
   "outputs": [],
   "source": [
    "model_path.parent.mkdir(exist_ok=True)\n"
   ]
  },
  {
   "cell_type": "code",
   "execution_count": 10,
   "id": "1f08ad39-6050-4e46-a1f1-db5852011f03",
   "metadata": {},
   "outputs": [],
   "source": [
    "# Create a DotDict instance and initialize it with your configuration\n",
    "config = DotDict()\n",
    "config.num_layers = 4\n",
    "config.resnet_layers = 2\n",
    "\n",
    "config.hidden_dim = 120  # should be mutiple of num_heads\n",
    "config.mlp_dim = 2048\n",
    "config.num_heads = 12\n",
    "config.dropout_rate = 0.1\n",
    "config.image_size = 512  # should be mutiple of patch_size\n",
    "config.patch_size = 32   # should be mutiple of 8\n",
    "config.num_patches = int(config.image_size**2 / config.patch_size**2)\n",
    "config.num_channels = 3\n",
    "config.patching_elements = (config.num_channels*config.image_size**2 )//config.num_patches\n",
    "config.final_resnet_output_dim = 2048\n",
    "config.num_classes = 2\n",
    "config.batch_size = 8\n",
    "config.device = device"
   ]
  },
  {
   "cell_type": "code",
   "execution_count": 12,
   "id": "2d343dc0-9f54-451d-9ddd-594baf70861c",
   "metadata": {},
   "outputs": [
    {
     "data": {
      "text/plain": [
       "120"
      ]
     },
     "execution_count": 12,
     "metadata": {},
     "output_type": "execute_result"
    }
   ],
   "source": [
    "config.num_heads*10\n"
   ]
  },
  {
   "cell_type": "code",
   "execution_count": 22,
   "id": "72b43112-be63-4928-86b1-0f32e255f60e",
   "metadata": {},
   "outputs": [],
   "source": [
    "data_dir = Path(\"Data/chest_xray\")\n"
   ]
  },
  {
   "cell_type": "code",
   "execution_count": 23,
   "id": "6eb9089d-a3f6-4734-9010-4bf94a53a84e",
   "metadata": {},
   "outputs": [
    {
     "data": {
      "text/plain": [
       "[WindowsPath('Data/chest_xray/chest_xray'),\n",
       " WindowsPath('Data/chest_xray/test'),\n",
       " WindowsPath('Data/chest_xray/train'),\n",
       " WindowsPath('Data/chest_xray/val'),\n",
       " WindowsPath('Data/chest_xray/__MACOSX')]"
      ]
     },
     "execution_count": 23,
     "metadata": {},
     "output_type": "execute_result"
    }
   ],
   "source": [
    "list(data_dir.iterdir())\n"
   ]
  },
  {
   "cell_type": "code",
   "execution_count": 24,
   "id": "88379ab0-44b3-4ee1-b259-2ed43282610a",
   "metadata": {},
   "outputs": [],
   "source": [
    "train_dir = data_dir/'train'\n",
    "test_dir = data_dir/'test'\n",
    "val_dir = data_dir/'val'"
   ]
  },
  {
   "cell_type": "code",
   "execution_count": 25,
   "id": "29970c75-6e43-4780-a35f-cb0b6013aa55",
   "metadata": {},
   "outputs": [
    {
     "data": {
      "text/html": [
       "<div>\n",
       "<style scoped>\n",
       "    .dataframe tbody tr th:only-of-type {\n",
       "        vertical-align: middle;\n",
       "    }\n",
       "\n",
       "    .dataframe tbody tr th {\n",
       "        vertical-align: top;\n",
       "    }\n",
       "\n",
       "    .dataframe thead th {\n",
       "        text-align: right;\n",
       "    }\n",
       "</style>\n",
       "<table border=\"1\" class=\"dataframe\">\n",
       "  <thead>\n",
       "    <tr style=\"text-align: right;\">\n",
       "      <th></th>\n",
       "      <th>directory</th>\n",
       "      <th>base</th>\n",
       "      <th>folders</th>\n",
       "      <th>video</th>\n",
       "      <th>music</th>\n",
       "      <th>photos</th>\n",
       "      <th>application/zip</th>\n",
       "      <th>documents</th>\n",
       "      <th>others</th>\n",
       "      <th>total files</th>\n",
       "    </tr>\n",
       "  </thead>\n",
       "  <tbody>\n",
       "    <tr>\n",
       "      <th>0</th>\n",
       "      <td>Data\\chest_xray\\train</td>\n",
       "      <td>train</td>\n",
       "      <td>2</td>\n",
       "      <td>0</td>\n",
       "      <td>0</td>\n",
       "      <td>0</td>\n",
       "      <td>0</td>\n",
       "      <td>0</td>\n",
       "      <td>0</td>\n",
       "      <td>0</td>\n",
       "    </tr>\n",
       "    <tr>\n",
       "      <th>1</th>\n",
       "      <td>Data\\chest_xray\\train\\NORMAL</td>\n",
       "      <td>NORMAL</td>\n",
       "      <td>0</td>\n",
       "      <td>0</td>\n",
       "      <td>0</td>\n",
       "      <td>1341</td>\n",
       "      <td>0</td>\n",
       "      <td>0</td>\n",
       "      <td>0</td>\n",
       "      <td>1341</td>\n",
       "    </tr>\n",
       "    <tr>\n",
       "      <th>2</th>\n",
       "      <td>Data\\chest_xray\\train\\PNEUMONIA</td>\n",
       "      <td>PNEUMONIA</td>\n",
       "      <td>0</td>\n",
       "      <td>0</td>\n",
       "      <td>0</td>\n",
       "      <td>3875</td>\n",
       "      <td>0</td>\n",
       "      <td>0</td>\n",
       "      <td>0</td>\n",
       "      <td>3875</td>\n",
       "    </tr>\n",
       "  </tbody>\n",
       "</table>\n",
       "</div>"
      ],
      "text/plain": [
       "                         directory       base  folders  video  music  photos  \\\n",
       "0            Data\\chest_xray\\train      train        2      0      0       0   \n",
       "1     Data\\chest_xray\\train\\NORMAL     NORMAL        0      0      0    1341   \n",
       "2  Data\\chest_xray\\train\\PNEUMONIA  PNEUMONIA        0      0      0    3875   \n",
       "\n",
       "   application/zip  documents  others  total files  \n",
       "0                0          0       0            0  \n",
       "1                0          0       0         1341  \n",
       "2                0          0       0         3875  "
      ]
     },
     "execution_count": 25,
     "metadata": {},
     "output_type": "execute_result"
    }
   ],
   "source": [
    "dir_walk(train_dir)\n"
   ]
  },
  {
   "cell_type": "code",
   "execution_count": 26,
   "id": "85ac0f96-2b2c-4ae4-83d5-63730676aef4",
   "metadata": {},
   "outputs": [
    {
     "data": {
      "text/html": [
       "<div>\n",
       "<style scoped>\n",
       "    .dataframe tbody tr th:only-of-type {\n",
       "        vertical-align: middle;\n",
       "    }\n",
       "\n",
       "    .dataframe tbody tr th {\n",
       "        vertical-align: top;\n",
       "    }\n",
       "\n",
       "    .dataframe thead th {\n",
       "        text-align: right;\n",
       "    }\n",
       "</style>\n",
       "<table border=\"1\" class=\"dataframe\">\n",
       "  <thead>\n",
       "    <tr style=\"text-align: right;\">\n",
       "      <th></th>\n",
       "      <th>directory</th>\n",
       "      <th>base</th>\n",
       "      <th>folders</th>\n",
       "      <th>video</th>\n",
       "      <th>music</th>\n",
       "      <th>photos</th>\n",
       "      <th>application/zip</th>\n",
       "      <th>documents</th>\n",
       "      <th>others</th>\n",
       "      <th>total files</th>\n",
       "    </tr>\n",
       "  </thead>\n",
       "  <tbody>\n",
       "    <tr>\n",
       "      <th>0</th>\n",
       "      <td>Data\\chest_xray\\test</td>\n",
       "      <td>test</td>\n",
       "      <td>2</td>\n",
       "      <td>0</td>\n",
       "      <td>0</td>\n",
       "      <td>0</td>\n",
       "      <td>0</td>\n",
       "      <td>0</td>\n",
       "      <td>0</td>\n",
       "      <td>0</td>\n",
       "    </tr>\n",
       "    <tr>\n",
       "      <th>1</th>\n",
       "      <td>Data\\chest_xray\\test\\NORMAL</td>\n",
       "      <td>NORMAL</td>\n",
       "      <td>0</td>\n",
       "      <td>0</td>\n",
       "      <td>0</td>\n",
       "      <td>234</td>\n",
       "      <td>0</td>\n",
       "      <td>0</td>\n",
       "      <td>0</td>\n",
       "      <td>234</td>\n",
       "    </tr>\n",
       "    <tr>\n",
       "      <th>2</th>\n",
       "      <td>Data\\chest_xray\\test\\PNEUMONIA</td>\n",
       "      <td>PNEUMONIA</td>\n",
       "      <td>0</td>\n",
       "      <td>0</td>\n",
       "      <td>0</td>\n",
       "      <td>390</td>\n",
       "      <td>0</td>\n",
       "      <td>0</td>\n",
       "      <td>0</td>\n",
       "      <td>390</td>\n",
       "    </tr>\n",
       "  </tbody>\n",
       "</table>\n",
       "</div>"
      ],
      "text/plain": [
       "                        directory       base  folders  video  music  photos  \\\n",
       "0            Data\\chest_xray\\test       test        2      0      0       0   \n",
       "1     Data\\chest_xray\\test\\NORMAL     NORMAL        0      0      0     234   \n",
       "2  Data\\chest_xray\\test\\PNEUMONIA  PNEUMONIA        0      0      0     390   \n",
       "\n",
       "   application/zip  documents  others  total files  \n",
       "0                0          0       0            0  \n",
       "1                0          0       0          234  \n",
       "2                0          0       0          390  "
      ]
     },
     "execution_count": 26,
     "metadata": {},
     "output_type": "execute_result"
    }
   ],
   "source": [
    "dir_walk(test_dir)\n"
   ]
  },
  {
   "cell_type": "code",
   "execution_count": 27,
   "id": "515f5b90-a6a6-4ad7-b48f-cccd16d69654",
   "metadata": {},
   "outputs": [
    {
     "data": {
      "text/html": [
       "<div>\n",
       "<style scoped>\n",
       "    .dataframe tbody tr th:only-of-type {\n",
       "        vertical-align: middle;\n",
       "    }\n",
       "\n",
       "    .dataframe tbody tr th {\n",
       "        vertical-align: top;\n",
       "    }\n",
       "\n",
       "    .dataframe thead th {\n",
       "        text-align: right;\n",
       "    }\n",
       "</style>\n",
       "<table border=\"1\" class=\"dataframe\">\n",
       "  <thead>\n",
       "    <tr style=\"text-align: right;\">\n",
       "      <th></th>\n",
       "      <th>directory</th>\n",
       "      <th>base</th>\n",
       "      <th>folders</th>\n",
       "      <th>video</th>\n",
       "      <th>music</th>\n",
       "      <th>photos</th>\n",
       "      <th>application/zip</th>\n",
       "      <th>documents</th>\n",
       "      <th>others</th>\n",
       "      <th>total files</th>\n",
       "    </tr>\n",
       "  </thead>\n",
       "  <tbody>\n",
       "    <tr>\n",
       "      <th>0</th>\n",
       "      <td>Data\\chest_xray\\val</td>\n",
       "      <td>val</td>\n",
       "      <td>2</td>\n",
       "      <td>0</td>\n",
       "      <td>0</td>\n",
       "      <td>0</td>\n",
       "      <td>0</td>\n",
       "      <td>0</td>\n",
       "      <td>0</td>\n",
       "      <td>0</td>\n",
       "    </tr>\n",
       "    <tr>\n",
       "      <th>1</th>\n",
       "      <td>Data\\chest_xray\\val\\NORMAL</td>\n",
       "      <td>NORMAL</td>\n",
       "      <td>0</td>\n",
       "      <td>0</td>\n",
       "      <td>0</td>\n",
       "      <td>8</td>\n",
       "      <td>0</td>\n",
       "      <td>0</td>\n",
       "      <td>0</td>\n",
       "      <td>8</td>\n",
       "    </tr>\n",
       "    <tr>\n",
       "      <th>2</th>\n",
       "      <td>Data\\chest_xray\\val\\PNEUMONIA</td>\n",
       "      <td>PNEUMONIA</td>\n",
       "      <td>0</td>\n",
       "      <td>0</td>\n",
       "      <td>0</td>\n",
       "      <td>8</td>\n",
       "      <td>0</td>\n",
       "      <td>0</td>\n",
       "      <td>0</td>\n",
       "      <td>8</td>\n",
       "    </tr>\n",
       "  </tbody>\n",
       "</table>\n",
       "</div>"
      ],
      "text/plain": [
       "                       directory       base  folders  video  music  photos  \\\n",
       "0            Data\\chest_xray\\val        val        2      0      0       0   \n",
       "1     Data\\chest_xray\\val\\NORMAL     NORMAL        0      0      0       8   \n",
       "2  Data\\chest_xray\\val\\PNEUMONIA  PNEUMONIA        0      0      0       8   \n",
       "\n",
       "   application/zip  documents  others  total files  \n",
       "0                0          0       0            0  \n",
       "1                0          0       0            8  \n",
       "2                0          0       0            8  "
      ]
     },
     "execution_count": 27,
     "metadata": {},
     "output_type": "execute_result"
    }
   ],
   "source": [
    "dir_walk(val_dir)\n"
   ]
  },
  {
   "cell_type": "code",
   "execution_count": 28,
   "id": "e7345f92-8f78-4d0c-8246-1a49898b5e27",
   "metadata": {},
   "outputs": [],
   "source": [
    "# Define data augmentation transformations for X-ray images\n",
    "train_transform = transforms.Compose([\n",
    "    transforms.RandomRotation(degrees=(-20, 20)),  # Random rotation between -10 and 10 degrees\n",
    "    transforms.RandomHorizontalFlip(),            # Random horizontal flip\n",
    "    transforms.RandomVerticalFlip(),            # Random vertical flip\n",
    "    transforms.RandomResizedCrop(config.image_size, scale=(0.7, 1.3)),  # Randomly resize and crop to 224x224 pixels\n",
    "    transforms.ColorJitter(brightness=0.1, contrast=0.1, saturation=0.1, hue=0.1),  # Adjust brightness, contrast, saturation, and hue\n",
    "    transforms.ToTensor(),  # Convert to tensor\n",
    "   ])"
   ]
  },
  {
   "cell_type": "code",
   "execution_count": null,
   "id": "b9eb2532-3093-410b-bf8f-793c76bc61a2",
   "metadata": {},
   "outputs": [],
   "source": [
    "            # from scratch"
   ]
  },
  {
   "cell_type": "code",
   "execution_count": 1,
   "id": "05fba464-266b-4768-ae24-8658f4cc963d",
   "metadata": {},
   "outputs": [],
   "source": [
    "import torch"
   ]
  },
  {
   "cell_type": "code",
   "execution_count": 2,
   "id": "d6bdcc15-33a0-44cd-8920-847bf7c66efc",
   "metadata": {},
   "outputs": [
    {
     "data": {
      "text/plain": [
       "'2.5.0.dev20240805+cu118'"
      ]
     },
     "execution_count": 2,
     "metadata": {},
     "output_type": "execute_result"
    }
   ],
   "source": [
    "torch.__version__"
   ]
  },
  {
   "cell_type": "code",
   "execution_count": 3,
   "id": "d4a33525-7ff6-4399-9ddf-7c574d5c360d",
   "metadata": {},
   "outputs": [],
   "source": [
    "import matplotlib.pyplot as plt\n",
    "from torch import nn\n",
    "import torchvision\n",
    "from torchvision import transforms"
   ]
  },
  {
   "cell_type": "code",
   "execution_count": 4,
   "id": "df48ade0-1629-434f-9e8c-7d5c4a446523",
   "metadata": {},
   "outputs": [],
   "source": [
    "device = 'cuda' if torch.cuda.is_available() else \"gpu\""
   ]
  },
  {
   "cell_type": "code",
   "execution_count": 5,
   "id": "c756ea73-c7b7-4046-9677-f9cd48496bea",
   "metadata": {},
   "outputs": [
    {
     "data": {
      "text/plain": [
       "'cuda'"
      ]
     },
     "execution_count": 5,
     "metadata": {},
     "output_type": "execute_result"
    }
   ],
   "source": [
    "device"
   ]
  },
  {
   "cell_type": "code",
   "execution_count": 6,
   "id": "14daebf7-b9cc-46a3-94f8-2b1659be0bc4",
   "metadata": {},
   "outputs": [],
   "source": [
    "train_dir = \"C:/Users/R NITHAN/Downloads/S7_Pro/Project/Data/chest_xray/train\"\n",
    "test_dir =  \"C:/Users/R NITHAN/Downloads/S7_Pro/Project/Data/chest_xray/test\""
   ]
  },
  {
   "cell_type": "code",
   "execution_count": 7,
   "id": "1a9eae3a-6abc-4401-bb6e-c2e5c479ac56",
   "metadata": {},
   "outputs": [],
   "source": [
    "# creating datasets and dataloaders\n",
    "\n",
    "import os\n",
    "from torchvision import transforms,datasets\n",
    "from torch.utils.data import DataLoader\n",
    "\n",
    "NUM_WORKERS = os.cpu_count()\n",
    "\n",
    "def create_dataLoaders( \n",
    "    train_dir : str,\n",
    "    test_dir:str,\n",
    "    transform : transforms.Compose,\n",
    "    batch_size : int,\n",
    "    num_workers : int = NUM_WORKERS):\n",
    "\n",
    "    # use image folder to create dataFolders\n",
    "    train_data = datasets.ImageFolder(train_dir,transform=transform)\n",
    "    test_data = datasets.ImageFolder(test_dir,transform=transform)\n",
    "\n",
    "    # class names gathering\n",
    "    class_names = train_data.classes\n",
    "\n",
    "    # Turn train and test data to image loaders\n",
    "\n",
    "    train_dataloader = DataLoader(\n",
    "        train_data,\n",
    "        shuffle=True,\n",
    "        pin_memory=True,\n",
    "        batch_size=batch_size,\n",
    "        num_workers=num_workers)\n",
    "    test_dataloader = DataLoader(\n",
    "        test_dir,\n",
    "        shuffle=True,\n",
    "        num_workers=num_workers,\n",
    "        pin_memory=True,\n",
    "        batch_size=batch_size)\n",
    "\n",
    "    return train_dataloader,test_dataloader,class_names\n",
    "       \n",
    "    \n",
    "    "
   ]
  },
  {
   "cell_type": "code",
   "execution_count": 8,
   "id": "31c29456-f54c-4f78-8dac-20bb346ee0cb",
   "metadata": {},
   "outputs": [
    {
     "data": {
      "text/plain": [
       "Compose(\n",
       "    Resize(size=(224, 224), interpolation=bilinear, max_size=None, antialias=True)\n",
       "    ToTensor()\n",
       ")"
      ]
     },
     "execution_count": 8,
     "metadata": {},
     "output_type": "execute_result"
    }
   ],
   "source": [
    "# IMAGE size\n",
    "IMG_SIZE = 224\n",
    "\n",
    "# create transform pipeline manually\n",
    "\n",
    "transform_manually = transforms.Compose([\n",
    "    transforms.Resize((IMG_SIZE,IMG_SIZE)),\n",
    "    transforms.ToTensor()\n",
    "])\n",
    "\n",
    "transform_manually"
   ]
  },
  {
   "cell_type": "code",
   "execution_count": 9,
   "id": "bb81a0b4-2cbb-4db7-aa30-8542f64108bb",
   "metadata": {},
   "outputs": [
    {
     "data": {
      "text/plain": [
       "(<torch.utils.data.dataloader.DataLoader at 0x2468de88050>,\n",
       " <torch.utils.data.dataloader.DataLoader at 0x2468d026b90>,\n",
       " ['NORMAL', 'PNEUMONIA'])"
      ]
     },
     "execution_count": 9,
     "metadata": {},
     "output_type": "execute_result"
    }
   ],
   "source": [
    "BATCH_SIZE = 32\n",
    "\n",
    "# create dataloaders\n",
    "\n",
    "train_dataloader,test_dataloader,class_names = create_dataLoaders(train_dir,test_dir,transform_manually,BATCH_SIZE,NUM_WORKERS)\n",
    "\n",
    "train_dataloader,test_dataloader,class_names"
   ]
  },
  {
   "cell_type": "code",
   "execution_count": 10,
   "id": "cdb969a5-9a97-4dfe-951e-4a72f79b042e",
   "metadata": {},
   "outputs": [
    {
     "name": "stdout",
     "output_type": "stream",
     "text": [
      "torch.Size([3, 224, 224]) tensor(0)\n"
     ]
    },
    {
     "data": {
      "text/plain": [
       "Text(0.5, 1.0, 'NORMAL')"
      ]
     },
     "execution_count": 10,
     "metadata": {},
     "output_type": "execute_result"
    },
    {
     "data": {
      "image/png": "[encoded data removed]",
      "text/plain": [
       "<Figure size 640x480 with 1 Axes>"
      ]
     },
     "metadata": {},
     "output_type": "display_data"
    }
   ],
   "source": [
    "# get image bacth and label Batch\n",
    "\n",
    "image_batch,label_batch = next(iter(train_dataloader))\n",
    "\n",
    "# get single image\n",
    "\n",
    "image,label = image_batch[0],label_batch[0]\n",
    "\n",
    "# View batch shape\n",
    "\n",
    "print(image.shape,label)\n",
    "\n",
    "# visualize the image\n",
    "\n",
    "plt.imshow(image.permute(1,2,0))\n",
    "plt.axis(False)\n",
    "plt.title(class_names[label])"
   ]
  },
  {
   "cell_type": "code",
   "execution_count": 11,
   "id": "90c53190-5640-441e-88d4-b6c2dbf92c80",
   "metadata": {},
   "outputs": [],
   "source": [
    "class PatchEmbedding(nn.Module):\n",
    "    def __init__(self,\n",
    "                in_channel:int=3,\n",
    "                 patch_size:int=16,\n",
    "                 embedding_dim:int=768\n",
    "                ):\n",
    "        super().__init__()\n",
    "        # layer to turn img into patches\n",
    "        self.patcher = nn.Conv2d(in_channels=in_channel,                          \n",
    "                                out_channels=embedding_dim,\n",
    "                                kernel_size=patch_size,\n",
    "                                stride=patch_size,\n",
    "                                padding=0)\n",
    "        # layer to trun patches into 1D\n",
    "        self.flatten=nn.Flatten(start_dim=2,\n",
    "                                end_dim=3)\n",
    "\n",
    "    def forward(self,x):\n",
    "        img_reso = x.shape[-1]\n",
    "        assert img_reso%patch_size==0,f'img format unsupported'\n",
    "        x_patched = self.patcher(x)\n",
    "        x_flatten = self.flatten(x_patched)\n",
    "\n",
    "        return x_flatten.permute(0,2,1)\n",
    "        \n",
    "        "
   ]
  },
  {
   "cell_type": "code",
   "execution_count": 12,
   "id": "62392c9e-c9e4-4199-8690-62ac9ac486ba",
   "metadata": {},
   "outputs": [],
   "source": [
    "# test for 1 img\n",
    "patch_size=16\n",
    "def set_seed(seed:int=42):\n",
    "    torch.manual_seed(seed)\n",
    "    torch.cuda.manual_seed(seed)\n",
    "\n",
    "set_seed()"
   ]
  },
  {
   "cell_type": "code",
   "execution_count": 13,
   "id": "330f32dd-195f-4571-abf7-24b86d3bae9b",
   "metadata": {},
   "outputs": [
    {
     "name": "stdout",
     "output_type": "stream",
     "text": [
      "img shape : torch.Size([1, 3, 224, 224])\n",
      "op of embedding patch shape : torch.Size([1, 196, 768])\n"
     ]
    }
   ],
   "source": [
    "# crt an instance of patchEmbedded layer\n",
    "patchify = PatchEmbedding(in_channel=3,\n",
    "                 patch_size=16,\n",
    "                 embedding_dim=768)\n",
    "\n",
    "# passing an img\n",
    "print(f\"img shape : {image.unsqueeze(0).shape}\")\n",
    "patch_embedding = patchify(image.unsqueeze(0))\n",
    "print(f\"op of embedding patch shape : {patch_embedding.shape}\")"
   ]
  },
  {
   "cell_type": "code",
   "execution_count": 14,
   "id": "edbdd189-953a-4167-8ce8-9cba45829bea",
   "metadata": {},
   "outputs": [
    {
     "name": "stdout",
     "output_type": "stream",
     "text": [
      "Patch embeddding:\n",
      "tensor([[[-0.4308,  0.1767, -0.0771,  ...,  0.3088, -0.1275, -0.0403],\n",
      "         [-0.6166,  0.2042, -0.1772,  ...,  0.4721, -0.2573,  0.1850],\n",
      "         [-0.5353,  0.1254, -0.2207,  ...,  0.3817, -0.2161,  0.2166],\n",
      "         ...,\n",
      "         [-0.6375,  0.1862, -0.2269,  ...,  0.5046, -0.3151,  0.2437],\n",
      "         [-0.3655, -0.0368, -0.1749,  ...,  0.4163, -0.2028,  0.3155],\n",
      "         [-0.0097, -0.0195, -0.0277,  ...,  0.0058, -0.0086,  0.0029]]],\n",
      "       grad_fn=<PermuteBackward0>)\n",
      "Pstch embedding shape:\n",
      "torch.Size([1, 196, 768])\n"
     ]
    }
   ],
   "source": [
    "print(f\"Patch embeddding:\\n{patch_embedding}\")\n",
    "print(f\"Pstch embedding shape:\\n{patch_embedding.shape}\")"
   ]
  },
  {
   "cell_type": "code",
   "execution_count": 15,
   "id": "433cebd1-d540-4c42-9f46-403dd9826c82",
   "metadata": {},
   "outputs": [
    {
     "name": "stdout",
     "output_type": "stream",
     "text": [
      "Image.tensor shape : torch.Size([3, 224, 224])\n",
      "Image input with batch dim : torch.Size([1, 3, 224, 224])\n",
      "patch_embedding shape : torch.Size([1, 196, 768])\n",
      "Class token embed shape : torch.Size([1, 1, 768])\n",
      "Patch embedding and class tokens cat : torch.Size([1, 197, 768])\n",
      "Position embedding : Parameter containing:\n",
      "tensor([[[1., 1., 1.,  ..., 1., 1., 1.],\n",
      "         [1., 1., 1.,  ..., 1., 1., 1.],\n",
      "         [1., 1., 1.,  ..., 1., 1., 1.],\n",
      "         ...,\n",
      "         [1., 1., 1.,  ..., 1., 1., 1.],\n",
      "         [1., 1., 1.,  ..., 1., 1., 1.],\n",
      "         [1., 1., 1.,  ..., 1., 1., 1.]]], requires_grad=True)\n",
      "Patch and position embed : tensor([[[2.0000, 2.0000, 2.0000,  ..., 2.0000, 2.0000, 2.0000],\n",
      "         [0.5692, 1.1767, 0.9229,  ..., 1.3088, 0.8725, 0.9597],\n",
      "         [0.3834, 1.2042, 0.8228,  ..., 1.4721, 0.7427, 1.1850],\n",
      "         ...,\n",
      "         [0.3625, 1.1862, 0.7731,  ..., 1.5046, 0.6849, 1.2437],\n",
      "         [0.6345, 0.9632, 0.8251,  ..., 1.4163, 0.7972, 1.3155],\n",
      "         [0.9903, 0.9805, 0.9723,  ..., 1.0058, 0.9914, 1.0029]]],\n",
      "       grad_fn=<AddBackward0>)\n"
     ]
    }
   ],
   "source": [
    "set_seed()\n",
    "patch_size=16\n",
    "# orginal img tensor dim\n",
    "print(f\"Image.tensor shape : {image.shape}\")\n",
    "height,width = image.shape[1],image.shape[2]\n",
    "# tensor  and add batch dim\n",
    "x=image.unsqueeze(0)\n",
    "print(f\"Image input with batch dim : {x.shape}\")\n",
    "\n",
    "patch_embedding_layer = PatchEmbedding(\n",
    "                            in_channel=3,\n",
    "                            patch_size=16,\n",
    "                            embedding_dim=768)\n",
    "# pass img throug patch layer\n",
    "patch_embedding = patch_embedding_layer(x)\n",
    "print(f\"patch_embedding shape : {patch_embedding.shape}\")\n",
    "\n",
    "# creating class tokens\n",
    "batch_size = patch_embedding.shape[0]\n",
    "embedding_dimension = patch_embedding.shape[-1]\n",
    "class_token = nn.Parameter(torch.ones(batch_size,1,embedding_dimension),requires_grad=True)\n",
    "print(f\"Class token embed shape : {class_token.shape}\")\n",
    "\n",
    "# class token embed to patch embed\n",
    "\n",
    "patch_embedding_class_token = torch.cat((class_token,patch_embedding),dim=1)\n",
    "print(f\"Patch embedding and class tokens cat : {patch_embedding_class_token.shape}\")\n",
    "\n",
    "# crt position embed\n",
    "no_of_patches = int((height*width)/patch_size**2)\n",
    "position_embeddding = nn.Parameter(torch.ones(1,no_of_patches+1,embedding_dimension),requires_grad=True)\n",
    "print(f\"Position embedding : {position_embeddding}\")\n",
    "\n",
    "# add position embed with claa and patch embed\n",
    "patch_and_posotion_embed = patch_embedding_class_token+position_embeddding\n",
    "print(f\"Patch and position embed : {patch_and_posotion_embed}\")"
   ]
  },
  {
   "cell_type": "code",
   "execution_count": 49,
   "id": "4d644461-6e99-4076-bc62-2097fe035d6e",
   "metadata": {},
   "outputs": [],
   "source": [
    "#  Transformer encode\n",
    "\n",
    "# 1st layer MultiHead Attention Layer\n",
    "\n",
    "class MultiHeadSelfAttentionBlock(nn.Module):\n",
    "    def __init__(self,\n",
    "                embedding_dim:int=768,\n",
    "                 num_heads:int=12,\n",
    "                 attn_dropout:float=0          \n",
    "                ):\n",
    "        super().__init__()\n",
    "        # crt Norm layer\n",
    "        self.layer_norm= nn.LayerNorm(normalized_shape=embedding_dim)\n",
    "\n",
    "        # crt Multi Head attention Layer\n",
    "        self.multihead_attn= nn.MultiheadAttention(embed_dim=embedding_dim,\n",
    "                                                   num_heads=num_heads,\n",
    "                                                   dropout=attn_dropout,\n",
    "                                                   batch_first=True)\n",
    "        \n",
    "    def forward(self,x):\n",
    "        x=self.layer_norm(x)\n",
    "        attn_output , _ = self.multihead_attn(query=x,\n",
    "                                        key=x,\n",
    "                                        value=x,\n",
    "                                        need_weights=False)\n",
    "        return attn_output"
   ]
  },
  {
   "cell_type": "code",
   "execution_count": 50,
   "id": "e418a3e0-d50c-46f8-b1d8-64d9e0b903a6",
   "metadata": {},
   "outputs": [],
   "source": [
    "# MLP block\n",
    "class MLPBlock(nn.Module):\n",
    "    def __init__(self,\n",
    "                embedding_dim:int=768,\n",
    "                 mlp_size:int=3072,\n",
    "                 drop_out:float=0.1):\n",
    "        super().__init__()\n",
    "        self.layer_norm = nn.LayerNorm(normalized_shape=embedding_dim)\n",
    "\n",
    "        self.mlp = nn.Sequential(\n",
    "            nn.Linear(in_features=embedding_dim,\n",
    "                      out_features=mlp_size),\n",
    "            nn.GELU(),\n",
    "            nn.Dropout(p=drop_out),\n",
    "            nn.Linear(in_features=mlp_size,\n",
    "                      out_features=embedding_dim),\n",
    "            nn.Dropout(p=drop_out)\n",
    "        )\n",
    "\n",
    "    def forward(self,x):\n",
    "        x=self.layer_norm(x)\n",
    "        x=self.mlp(x)\n",
    "        return x"
   ]
  },
  {
   "cell_type": "code",
   "execution_count": 51,
   "id": "7355adc8-c22d-4d60-b423-fe17a912dc40",
   "metadata": {},
   "outputs": [],
   "source": [
    "#  Trensformer block\n",
    "\n",
    "class TransformerEncoderBlock(nn.Module):\n",
    "    def __init__(self,\n",
    "                 embedding_dim:int=768,\n",
    "                 num_heads:int=12,\n",
    "                 mlp_size:int=3072,\n",
    "                 mlp_dropout:float=0.1,\n",
    "                 attn_dropout:float=0):\n",
    "        super().__init__()\n",
    "\n",
    "        self.mas_block = MultiHeadSelfAttentionBlock(\n",
    "                           embedding_dim=embedding_dim,\n",
    "                           num_heads=num_heads,\n",
    "                           attn_dropout=attn_dropout)\n",
    "        self.mlp_block = MLPBlock(\n",
    "                            embedding_dim=embedding_dim,\n",
    "                            mlp_size=mlp_size,\n",
    "                             drop_out=mlp_dropout)\n",
    "    def forward(self,x):\n",
    "        x = self.mas_block(x)\n",
    "        x = self.mlp_block(x)\n",
    "        return x"
   ]
  },
  {
   "cell_type": "code",
   "execution_count": 52,
   "id": "a497bfb7-5cb2-4ceb-875c-81ff9f7093f1",
   "metadata": {},
   "outputs": [],
   "source": [
    "# !pip install torchinfo"
   ]
  },
  {
   "cell_type": "code",
   "execution_count": 53,
   "id": "c23a25d1-e07d-4e39-8d14-8628b9059058",
   "metadata": {},
   "outputs": [
    {
     "data": {
      "text/plain": [
       "======================================================================================================================================================\n",
       "Layer (type (var_name))                            Input Shape               Output Shape              Param #                   Trainable\n",
       "======================================================================================================================================================\n",
       "TransformerEncoderBlock (TransformerEncoderBlock)  [1, 197, 768]             [1, 197, 768]             --                        True\n",
       "├─MultiHeadSelfAttentionBlock (mas_block)          [1, 197, 768]             [1, 197, 768]             --                        True\n",
       "│    └─LayerNorm (layer_norm)                      [1, 197, 768]             [1, 197, 768]             1,536                     True\n",
       "│    └─MultiheadAttention (multihead_attn)         --                        [1, 197, 768]             2,362,368                 True\n",
       "├─MLPBlock (mlp_block)                             [1, 197, 768]             [1, 197, 768]             --                        True\n",
       "│    └─LayerNorm (layer_norm)                      [1, 197, 768]             [1, 197, 768]             1,536                     True\n",
       "│    └─Sequential (mlp)                            [1, 197, 768]             [1, 197, 768]             --                        True\n",
       "│    │    └─Linear (0)                             [1, 197, 768]             [1, 197, 3072]            2,362,368                 True\n",
       "│    │    └─GELU (1)                               [1, 197, 3072]            [1, 197, 3072]            --                        --\n",
       "│    │    └─Dropout (2)                            [1, 197, 3072]            [1, 197, 3072]            --                        --\n",
       "│    │    └─Linear (3)                             [1, 197, 3072]            [1, 197, 768]             2,360,064                 True\n",
       "│    │    └─Dropout (4)                            [1, 197, 768]             [1, 197, 768]             --                        --\n",
       "======================================================================================================================================================\n",
       "Total params: 7,087,872\n",
       "Trainable params: 7,087,872\n",
       "Non-trainable params: 0\n",
       "Total mult-adds (Units.MEGABYTES): 4.73\n",
       "======================================================================================================================================================\n",
       "Input size (MB): 0.61\n",
       "Forward/backward pass size (MB): 8.47\n",
       "Params size (MB): 18.90\n",
       "Estimated Total Size (MB): 27.98\n",
       "======================================================================================================================================================"
      ]
     },
     "execution_count": 53,
     "metadata": {},
     "output_type": "execute_result"
    }
   ],
   "source": [
    "# testing encoder\n",
    "import torchinfo\n",
    "transformer_Encoder = TransformerEncoderBlock()\n",
    "from torchinfo import summary\n",
    "summary(model = transformer_Encoder,\n",
    "        input_size = (1,197,768),\n",
    "        col_names = [\"input_size\",\"output_size\",\"num_params\",\"trainable\"],\n",
    "        row_settings=[\"var_names\"])"
   ]
  },
  {
   "cell_type": "code",
   "execution_count": null,
   "id": "9d6a3a46-98a2-4761-86c7-6852b1731301",
   "metadata": {},
   "outputs": [],
   "source": []
  }
 ],
 "metadata": {
  "kernelspec": {
   "display_name": "Python 3 (ipykernel)",
   "language": "python",
   "name": "python3"
  },
  "language_info": {
   "codemirror_mode": {
    "name": "ipython",
    "version": 3
   },
   "file_extension": ".py",
   "mimetype": "text/x-python",
   "name": "python",
   "nbconvert_exporter": "python",
   "pygments_lexer": "ipython3",
   "version": "3.11.9"
  }
 },
 "nbformat": 4,
 "nbformat_minor": 5
}
